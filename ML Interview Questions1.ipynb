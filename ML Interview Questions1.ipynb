{
 "cells": [
  {
   "cell_type": "markdown",
   "id": "8bdafa10",
   "metadata": {},
   "source": [
    "**Q1. What is linear regression**\n",
    "- Its a statistical methode used in predictive  modelind \n",
    "- its a linear appreoach for modelingbthe relationship between dependednt variable and independent variable."
   ]
  },
  {
   "cell_type": "markdown",
   "id": "eed98201",
   "metadata": {},
   "source": [
    "**Q2. What is simple linear regression model?**\n",
    "- Simple linear regression model that estimates the relationship between one dependent variable and one independent variable using a  straight line.\n",
    "- Both variable should be quantitative."
   ]
  },
  {
   "cell_type": "markdown",
   "id": "1a7d0772",
   "metadata": {},
   "source": [
    "**Q2. What is multiple linear regression?**\n",
    "- Multiple linear regression model estimates the relationship between one quantitative dependent variable and two or more independent variable."
   ]
  },
  {
   "cell_type": "markdown",
   "id": "4fefac27",
   "metadata": {},
   "source": [
    "**Q3. What is the error in linear regression?**\n",
    "- The difference between expected(predicted) value at a particular time and the value that was actually observed."
   ]
  },
  {
   "cell_type": "markdown",
   "id": "9eb1abf9",
   "metadata": {},
   "source": [
    "**Q4. What is error value in regression?**\n",
    "- The standard error in regression  is also known as standard error of the estimate.\n",
    "- it represents the average distance that the observed values fall from the regression line."
   ]
  },
  {
   "cell_type": "markdown",
   "id": "cf61962d",
   "metadata": {},
   "source": [
    "**Q5.Wht is mean  by loss and cost function  in regression?**\n",
    "- The cost function is the average error of n-samples in the dataset(for the whole training data) and\n",
    "- loss function is  the error for indivudual data points"
   ]
  },
  {
   "cell_type": "markdown",
   "id": "b701a202",
   "metadata": {},
   "source": [
    "**Q6. Difference between MSE and RMSE?**\n",
    "**MSE**\n",
    "- MSE is the average of the standard error that is used as the loss function for least squares regression.\n",
    "- To calculate MSE we find the difference between your model's prediction and the actual target variables,square this difference,average it across the whole dataset.\n"
   ]
  },
  {
   "cell_type": "markdown",
   "id": "f15990d4",
   "metadata": {},
   "source": [
    "**Q7. Gradient decent?**\n",
    "- Gradient decent is an  optimization algorithm used for minimizing the cost function in various machine learning model.\n"
   ]
  },
  {
   "cell_type": "markdown",
   "id": "a72b4f5d",
   "metadata": {},
   "source": [
    "**Q8. How gradient decent works for regression problems**\n",
    "- If we move towards a negative gradient or away from the gradient of the function at the current point, it will give the local minimum of that function.\n",
    "- Whenever we move towards a positive gradient or towards the gradient of the function at the current point, we will get the local maximum of that function.\n"
   ]
  },
  {
   "attachments": {
    "gradient%20decent.PNG": {
     "image/png": "[encoded data removed]"
    }
   },
   "cell_type": "markdown",
   "id": "7dc3991b",
   "metadata": {},
   "source": [
    "![gradient%20decent.PNG](attachment:gradient%20decent.PNG)"
   ]
  },
  {
   "cell_type": "markdown",
   "id": "75cd8483",
   "metadata": {},
   "source": [
    "The equation for simple linear regression is given as:\n",
    "    y=mx+c\n",
    "Where 'm' represents the slope of the line, and 'c' represents the intercepts on the y-axis.\n",
    "\n",
    "The main objective of gradient descent is to minimize the cost function or the error between expected and actual. To minimize the cost function, two data points are required:\n",
    "- Direction & Learning Rate\n",
    "These two factors are used to determine the partial derivative calculation of future iteration and allow it to the point of convergence or local minimum or global minimum.\n"
   ]
  },
  {
   "cell_type": "markdown",
   "id": "ca8fa4b4",
   "metadata": {},
   "source": [
    "The best way to define the local minimum or local maximum of a function using gradient descent is as follows:\n",
    "\n",
    "- If we move towards a negative gradient or away from the gradient of the function at the current point, it will give the local minimum of that function.\n",
    "- Whenever we move towards a positive gradient or towards the gradient of the function at the current point, we will get the local maximum of that function.\n",
    "**This entire procedure is known as Gradient Ascent, which is also known as steepest descent. The main objective of using a gradient descent algorithm is to minimize the cost function using iteration. To achieve this goal, it performs two steps iteratively:**\n",
    "\n",
    "- Calculates the first-order derivative of the function to compute the gradient or slope of that function.\n",
    "- Move away from the direction of the gradient, which means slope increased from the current point by alpha times, where Alpha is defined as Learning Rate. It is a tuning parameter in the optimization process which helps to decide the length of the steps.\n",
    "\n"
   ]
  },
  {
   "cell_type": "markdown",
   "id": "d9751a9e",
   "metadata": {},
   "source": [
    "**Q9.Explain what the intercept and slope means?**\n",
    "Y=mX+s\n",
    "- Slope(s): is an estimate of how much the dependent variable changes for a unit change in the independent.\n",
    "- The intersection of the linear regression line at Y axis is  called intercept(m)."
   ]
  },
  {
   "cell_type": "markdown",
   "id": "145af133",
   "metadata": {},
   "source": [
    "**Q10. Write all assumptions of linear regression line?**\n",
    "- There should be a linear and additive relationship between dependent (response) variable and independent (predictor) variable(s). A linear relationship suggests that a change in response Y due to one unit change in X¹ is constant, regardless of the value of X¹.\n",
    "- There should be no correlation between the residual (error) terms. Absence of this phenomenon is known as Autocorrelation.\n",
    "- The independent variables should not be correlated. Absence of this phenomenon is known as multicollinearity.\n",
    "- The error terms must have constant variance. This phenomenon is known as homoskedasticity. The presence of non-constant variance is referred to heteroskedasticity.\n",
    "-  The error terms must be normally distributed.\n",
    " "
   ]
  },
  {
   "cell_type": "markdown",
   "id": "6add74b9",
   "metadata": {},
   "source": [
    "**Q11.How does hypothesis testing used in  linear regression?**\n",
    "- Incase of regression models: When we fit a straight line through a linear regression model, we get the slope and intercept for the line. Hypothesis testing is used to confirm if our beta coefficients are significant in a linear regression model. Every time we run the linear regression model, we test if the line is significant or not by checking if the coefficient is significant. \n",
    "Key steps to perform hypothesis test are as follows:\n",
    "\n",
    "- Formulate a Hypothesis\n",
    "- Determine the significance level\n",
    "- Determine the type of test\n",
    "- Calculate the Test Statistic values and the p values\n",
    "- Make Decision"
   ]
  },
  {
   "cell_type": "markdown",
   "id": "d0f79817",
   "metadata": {},
   "source": [
    "\n",
    "**Q12.What is Hypothesis Testing?**\n",
    "- Any data science project starts with exploring the data. When we perform an analysis on a sample through exploratory data analysis and inferential statistics we get information about the sample. Now, we want to use this information to predict values for the entire population.Hypothesis Testing\n",
    "\n",
    "Hypothesis testing is done to confirm our observation about the population using sample data, within the desired error level. Through hypothesis testing, we can determine whether we have enough statistical evidence to conclude if the hypothesis about the population is true or not."
   ]
  },
  {
   "cell_type": "markdown",
   "id": "bdee26e4",
   "metadata": {},
   "source": [
    "**Q12. predictor  variable Distribution type\t Desired Test\t       Attributes**\n",
    "-      Quantitative     \tNormal Distribution\t Z – Test\t     Large sample size,Population standard                                                                  deviation known\n",
    "-      Quantitative\t        T Distribution\t     T-Test\t         Sample size less than 30\n",
    "                                                                 Population standard deviation unknown\n",
    "-      Quantitative\t       Positively skewed\tF – Test\t     When you want to compare 3 or                                        distribution                                 more variables\n",
    "-      Quantitative\t       Negatively skewed    NA               Requires feature transformation to                                                                    perform a hypothesis test\n",
    "\t\n",
    "\n",
    "-      Categorical\t        NA\t              Chi-Square test\tTest of independence\n",
    "                                                                Goodness of fit\n",
    " "
   ]
  },
  {
   "cell_type": "markdown",
   "id": "a32c71c6",
   "metadata": {},
   "source": [
    "**Q13 How would you decide importance of variable for the multivariate regression**\n"
   ]
  },
  {
   "cell_type": "code",
   "execution_count": null,
   "id": "3f967321",
   "metadata": {},
   "outputs": [],
   "source": []
  }
 ],
 "metadata": {
  "kernelspec": {
   "display_name": "Python 3 (ipykernel)",
   "language": "python",
   "name": "python3"
  },
  "language_info": {
   "codemirror_mode": {
    "name": "ipython",
    "version": 3
   },
   "file_extension": ".py",
   "mimetype": "text/x-python",
   "name": "python",
   "nbconvert_exporter": "python",
   "pygments_lexer": "ipython3",
   "version": "3.9.12"
  }
 },
 "nbformat": 4,
 "nbformat_minor": 5
}
